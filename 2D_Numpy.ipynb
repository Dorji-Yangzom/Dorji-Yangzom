{
  "nbformat": 4,
  "nbformat_minor": 0,
  "metadata": {
    "colab": {
      "provenance": [],
      "authorship_tag": "ABX9TyOiX+B9VLuA3cKllF2IimMk",
      "include_colab_link": true
    },
    "kernelspec": {
      "name": "python3",
      "display_name": "Python 3"
    },
    "language_info": {
      "name": "python"
    }
  },
  "cells": [
    {
      "cell_type": "markdown",
      "metadata": {
        "id": "view-in-github",
        "colab_type": "text"
      },
      "source": [
        "<a href=\"https://colab.research.google.com/github/Dorji-Yangzom/Dorji-Yangzom/blob/main/2D_Numpy.ipynb\" target=\"_parent\"><img src=\"https://colab.research.google.com/assets/colab-badge.svg\" alt=\"Open In Colab\"/></a>"
      ]
    },
    {
      "cell_type": "markdown",
      "source": [
        "Quiz on 2D Numpy Array"
      ],
      "metadata": {
        "id": "54LY-ROT0i4s"
      }
    },
    {
      "cell_type": "markdown",
      "source": [
        "Consider the following list a, convert it to Numpy Array."
      ],
      "metadata": {
        "id": "Vi4Un9c_0qwd"
      }
    },
    {
      "cell_type": "code",
      "source": [
        "a = [[1, 2, 3, 4], [5, 6, 7, 8], [9, 10, 11, 12]]"
      ],
      "metadata": {
        "id": "QwT4Y1370tVg"
      },
      "execution_count": null,
      "outputs": []
    },
    {
      "cell_type": "code",
      "source": [
        "import numpy as np\n",
        "\n",
        "# Given list\n",
        "a = [[1, 2, 3, 4],\n",
        "     [5, 6, 7, 8],\n",
        "     [9, 10, 11, 12]]\n",
        "\n",
        "# Convert to 2D NumPy array\n",
        "arr = np.array(a)\n",
        "\n",
        "# Print the array\n",
        "print(arr)\n"
      ],
      "metadata": {
        "colab": {
          "base_uri": "https://localhost:8080/"
        },
        "id": "iyItnNTE1EfK",
        "outputId": "204fcdf4-68c8-4987-b9f2-7c42543fe46e"
      },
      "execution_count": 4,
      "outputs": [
        {
          "output_type": "stream",
          "name": "stdout",
          "text": [
            "[[ 1  2  3  4]\n",
            " [ 5  6  7  8]\n",
            " [ 9 10 11 12]]\n"
          ]
        }
      ]
    },
    {
      "cell_type": "markdown",
      "source": [
        "Calculate the numpy array size."
      ],
      "metadata": {
        "id": "ibJ905sk1hg9"
      }
    },
    {
      "cell_type": "code",
      "source": [
        "import numpy as np\n",
        "\n",
        "a = [[1, 2, 3, 4],\n",
        "     [5, 6, 7, 8],\n",
        "     [9, 10, 11, 12]]\n",
        "\n",
        "arr = np.array(a)\n",
        "\n",
        "# Calculate size\n",
        "print(\"Size of the array:\", arr.size)\n"
      ],
      "metadata": {
        "colab": {
          "base_uri": "https://localhost:8080/"
        },
        "id": "QUYbUIRS1iQT",
        "outputId": "236c510b-ece3-4a5e-ce60-7a75445575ae"
      },
      "execution_count": 5,
      "outputs": [
        {
          "output_type": "stream",
          "name": "stdout",
          "text": [
            "Size of the array: 12\n"
          ]
        }
      ]
    },
    {
      "cell_type": "markdown",
      "source": [
        "Access the element on the first row and first and second columns."
      ],
      "metadata": {
        "id": "TKx28bW-1wjb"
      }
    },
    {
      "cell_type": "code",
      "source": [
        "import numpy as np\n",
        "\n",
        "a = [[1, 2, 3, 4],\n",
        "     [5, 6, 7, 8],\n",
        "     [9, 10, 11, 12]]\n",
        "\n",
        "arr = np.array(a) # converting to numpy array\n",
        "\n",
        "# Access elements: first row, first and second columns\n",
        "elements = arr[0, 0:2]  # row 0, columns 0 and 1\n",
        "print(\"Elements on first row, first and second columns:\", elements)\n"
      ],
      "metadata": {
        "colab": {
          "base_uri": "https://localhost:8080/"
        },
        "id": "Uay6ZPn510ZU",
        "outputId": "d6e4aa04-a380-4895-ce69-ad7808b643e7"
      },
      "execution_count": 6,
      "outputs": [
        {
          "output_type": "stream",
          "name": "stdout",
          "text": [
            "Elements on first row, first and second columns: [1 2]\n"
          ]
        }
      ]
    },
    {
      "cell_type": "markdown",
      "source": [
        "Perform matrix multiplication with the numpy arrays A and B."
      ],
      "metadata": {
        "id": "pjWMWz2U2NBi"
      }
    },
    {
      "cell_type": "code",
      "source": [
        "A = [[1, 2, 3, 4], [5, 6, 7, 8], [9, 10, 11, 12]]\n",
        "B = np.array([[0, 1], [1, 0], [1, 1], [-1, 0]])"
      ],
      "metadata": {
        "id": "YLtFCGqX2QET"
      },
      "execution_count": null,
      "outputs": []
    },
    {
      "cell_type": "code",
      "source": [
        "import numpy as np\n",
        "\n",
        "# A from the previous list\n",
        "A = np.array([[1, 2, 3, 4],\n",
        "              [5, 6, 7, 8],\n",
        "              [9, 10, 11, 12]])\n",
        "\n",
        "B = np.array([[0, 1],\n",
        "              [1, 0],\n",
        "              [1, 1],\n",
        "              [-1, 0]])\n",
        "\n",
        "# matrix multiplication\n",
        "C = np.matmul(A, B)  # or A @ B\n",
        "print(\"Result:\\n\", C)\n"
      ],
      "metadata": {
        "colab": {
          "base_uri": "https://localhost:8080/"
        },
        "id": "ILh_ouUG2muD",
        "outputId": "939723f7-a585-4306-d897-c784a06d57e0"
      },
      "execution_count": 8,
      "outputs": [
        {
          "output_type": "stream",
          "name": "stdout",
          "text": [
            "Result:\n",
            " [[ 1  4]\n",
            " [ 5 12]\n",
            " [ 9 20]]\n"
          ]
        }
      ]
    }
  ]
}