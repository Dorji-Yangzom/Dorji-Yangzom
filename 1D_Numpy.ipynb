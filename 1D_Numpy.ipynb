{
  "nbformat": 4,
  "nbformat_minor": 0,
  "metadata": {
    "colab": {
      "provenance": [],
      "authorship_tag": "ABX9TyNsw7VMVltTx9uu3Tcus/Ah",
      "include_colab_link": true
    },
    "kernelspec": {
      "name": "python3",
      "display_name": "Python 3"
    },
    "language_info": {
      "name": "python"
    }
  },
  "cells": [
    {
      "cell_type": "markdown",
      "metadata": {
        "id": "view-in-github",
        "colab_type": "text"
      },
      "source": [
        "<a href=\"https://colab.research.google.com/github/Dorji-Yangzom/Dorji-Yangzom/blob/main/1D_Numpy.ipynb\" target=\"_parent\"><img src=\"https://colab.research.google.com/assets/colab-badge.svg\" alt=\"Open In Colab\"/></a>"
      ]
    },
    {
      "cell_type": "markdown",
      "source": [
        "1D Numpy in python.\n",
        "NumPy is a Python library used for working with arrays, linear algebra, fourier transform, and matrices. NumPy stands for Numerical Python and it is an open source project. The array object in NumPy is called ndarray, it provides a lot of supporting functions that make working with ndarray very easy.\n",
        "\n",
        "Arrays are very frequently used in data science, where speed and resources are very important.\n",
        "\n",
        "NumPy is usually imported under the np alias.\n",
        "\n",
        "It's usually fixed in size and each element is of the same type. We can cast a list to a numpy array by first importing numpy:"
      ],
      "metadata": {
        "id": "oFf1Ec-mh4TG"
      }
    },
    {
      "cell_type": "markdown",
      "source": [
        "Try it yourself\n",
        "\n",
        "1. Check the type of the array and Value type for the given array b"
      ],
      "metadata": {
        "id": "pWVQds_2ixPj"
      }
    },
    {
      "cell_type": "code",
      "source": [
        "import numpy as np\n",
        "\n",
        "b = np.array([3.1, 11.02, 6.2, 213.2, 5.2])\n",
        "b\n",
        "type(b)"
      ],
      "metadata": {
        "colab": {
          "base_uri": "https://localhost:8080/"
        },
        "id": "ke_nvFLIiyjQ",
        "outputId": "3bfefba1-742d-450a-bd67-6acb4111c16d"
      },
      "execution_count": 4,
      "outputs": [
        {
          "output_type": "execute_result",
          "data": {
            "text/plain": [
              "numpy.ndarray"
            ]
          },
          "metadata": {},
          "execution_count": 4
        }
      ]
    },
    {
      "cell_type": "code",
      "source": [
        "b.dtype"
      ],
      "metadata": {
        "colab": {
          "base_uri": "https://localhost:8080/"
        },
        "id": "neca0xHqjoSD",
        "outputId": "31afc875-82ee-4872-d3b3-66e3552a5962"
      },
      "execution_count": 5,
      "outputs": [
        {
          "output_type": "execute_result",
          "data": {
            "text/plain": [
              "dtype('float64')"
            ]
          },
          "metadata": {},
          "execution_count": 5
        }
      ]
    },
    {
      "cell_type": "markdown",
      "source": [
        "2. Assign the value 20 for the second element in the given array."
      ],
      "metadata": {
        "id": "iNzV8oaLjxht"
      }
    },
    {
      "cell_type": "code",
      "source": [
        "import numpy as np\n",
        "a = np.array([10, 2, 30, 40,50])\n",
        "a[1]=20\n",
        "a"
      ],
      "metadata": {
        "colab": {
          "base_uri": "https://localhost:8080/"
        },
        "id": "_CLYda33jzEM",
        "outputId": "ec5d451e-7a7d-40c7-8a0e-4806b52a4fe2"
      },
      "execution_count": 6,
      "outputs": [
        {
          "output_type": "execute_result",
          "data": {
            "text/plain": [
              "array([10, 20, 30, 40, 50])"
            ]
          },
          "metadata": {},
          "execution_count": 6
        }
      ]
    },
    {
      "cell_type": "markdown",
      "source": [
        "Slicing\n",
        "\n",
        "- Like lists, we can slice the numpy array. Slicing in python means taking the elements from the given index to another given index.\n",
        "\n",
        "- We pass slice like this: [start:end].The element at end index is not being included in the output."
      ],
      "metadata": {
        "id": "qsWiefjGkFxs"
      }
    },
    {
      "cell_type": "markdown",
      "source": [
        "3. Print the even elements in the given array."
      ],
      "metadata": {
        "id": "G896tGh0kY8V"
      }
    },
    {
      "cell_type": "code",
      "source": [
        "arr = np.array([1, 2, 3, 4, 5, 6, 7, 8])\n",
        "print(arr[1:8:2])"
      ],
      "metadata": {
        "colab": {
          "base_uri": "https://localhost:8080/"
        },
        "id": "oTWehR-ZkaqE",
        "outputId": "0b751126-a739-42c7-d57e-bdaa7b03790b"
      },
      "execution_count": 7,
      "outputs": [
        {
          "output_type": "stream",
          "name": "stdout",
          "text": [
            "[2 4 6 8]\n"
          ]
        }
      ]
    },
    {
      "cell_type": "markdown",
      "source": [
        "4. Find the size ,dimension and shape for the given array b"
      ],
      "metadata": {
        "id": "vcMUSfbRlNKB"
      }
    },
    {
      "cell_type": "code",
      "source": [
        "import numpy as np\n",
        "\n",
        "b = np.array([10, 20, 30, 40, 50, 60, 70])\n",
        "\n",
        "print(\"Size: \", b.size)\n",
        "print(\"Dimension: \", b.ndim) # ndim means number of dimensions\n",
        "print(\"Shape: \", b.shape)"
      ],
      "metadata": {
        "colab": {
          "base_uri": "https://localhost:8080/"
        },
        "id": "9_rJBwlflOiX",
        "outputId": "7d98763c-9092-4f84-c6ab-6f1f33a29f0f"
      },
      "execution_count": 8,
      "outputs": [
        {
          "output_type": "stream",
          "name": "stdout",
          "text": [
            "Size:  7\n",
            "Dimension:  1\n",
            "Shape:  (7,)\n"
          ]
        }
      ]
    },
    {
      "cell_type": "markdown",
      "source": [
        "5. Find the sum of maximum and minimum value in the given numpy array"
      ],
      "metadata": {
        "id": "1GhS5txjmAXq"
      }
    },
    {
      "cell_type": "code",
      "source": [
        "import numpy as np\n",
        "\n",
        "c = np.array([-10, 201, 43, 94, 502])\n",
        "\n",
        "maximum=c.max()\n",
        "minimum=c.min()\n",
        "sum=maximum + minimum\n",
        "\n",
        "print(\"Maximum: \", maximum)\n",
        "print(\"Mnimum: \", minimum)\n",
        "print(\"Total Sum: \", sum)\n"
      ],
      "metadata": {
        "colab": {
          "base_uri": "https://localhost:8080/"
        },
        "id": "qzIaQsaGmCFK",
        "outputId": "f0cce0ab-dc4d-4959-f4f0-c003535c88a3"
      },
      "execution_count": 11,
      "outputs": [
        {
          "output_type": "stream",
          "name": "stdout",
          "text": [
            "Maximum:  502\n",
            "Mnimum:  -10\n",
            "Total Sum:  492\n"
          ]
        }
      ]
    },
    {
      "cell_type": "markdown",
      "source": [
        "6. Perform addition operation on the given numpy array arr1 and arr2:"
      ],
      "metadata": {
        "id": "pN8jTX-xno8N"
      }
    },
    {
      "cell_type": "code",
      "source": [
        "import numpy as np\n",
        "\n",
        "arr1 = np.array([10, 11, 12, 13, 14, 15])\n",
        "arr2 = np.array([20, 21, 22, 23, 24, 25])\n",
        "\n",
        "x=np.add(arr1,arr2)\n",
        "x"
      ],
      "metadata": {
        "colab": {
          "base_uri": "https://localhost:8080/"
        },
        "id": "E8Ra_KL0nqSc",
        "outputId": "09d3b5b5-7cff-483a-a4fa-2cee21dfbf8e"
      },
      "execution_count": 12,
      "outputs": [
        {
          "output_type": "execute_result",
          "data": {
            "text/plain": [
              "array([30, 32, 34, 36, 38, 40])"
            ]
          },
          "metadata": {},
          "execution_count": 12
        }
      ]
    },
    {
      "cell_type": "markdown",
      "source": [
        "7. Perform subtraction operation on the given numpy array arr1 and arr2:"
      ],
      "metadata": {
        "id": "-O-ulZFGoBV7"
      }
    },
    {
      "cell_type": "code",
      "source": [
        "import numpy as np\n",
        "\n",
        "arr1 = np.array([10, 20, 30, 40, 50, 60])\n",
        "arr2 = np.array([20, 21, 22, 23, 24, 25])\n",
        "\n",
        "x=np.subtract(arr1,arr2)\n",
        "x"
      ],
      "metadata": {
        "colab": {
          "base_uri": "https://localhost:8080/"
        },
        "id": "q5y4yZJ9oC1f",
        "outputId": "16eaf173-b65c-4d3b-e34e-6d03e581628a"
      },
      "execution_count": 15,
      "outputs": [
        {
          "output_type": "execute_result",
          "data": {
            "text/plain": [
              "array([-10,  -1,   8,  17,  26,  35])"
            ]
          },
          "metadata": {},
          "execution_count": 15
        }
      ]
    },
    {
      "cell_type": "markdown",
      "source": [
        "8. Perform multiply operation on the given numpy array arr1 and arr2:"
      ],
      "metadata": {
        "id": "n_WFnxsEodAR"
      }
    },
    {
      "cell_type": "code",
      "source": [
        "import numpy as np\n",
        "\n",
        "arr1 = np.array([10, 20, 30, 40, 50, 60])\n",
        "arr2 = np.array([2, 1, 2, 3, 4, 5])\n",
        "\n",
        "x=np.multiply(arr1, arr2)\n",
        "x"
      ],
      "metadata": {
        "colab": {
          "base_uri": "https://localhost:8080/"
        },
        "id": "nbubw9aooeJw",
        "outputId": "37636c8c-32c8-414d-b429-1d67dbbfd085"
      },
      "execution_count": 16,
      "outputs": [
        {
          "output_type": "execute_result",
          "data": {
            "text/plain": [
              "array([ 20,  20,  60, 120, 200, 300])"
            ]
          },
          "metadata": {},
          "execution_count": 16
        }
      ]
    },
    {
      "cell_type": "markdown",
      "source": [
        "9. Perform division operation on the given numpy array arr1 and arr2:"
      ],
      "metadata": {
        "id": "wIYitInVo7mv"
      }
    },
    {
      "cell_type": "code",
      "source": [
        "import numpy as np\n",
        "\n",
        "arr1 = np.array([10, 20, 30, 40, 50, 60])\n",
        "arr2 = np.array([3, 5, 10, 8, 2, 33])\n",
        "\n",
        "x=np.divide(arr1,arr2)\n",
        "x\n"
      ],
      "metadata": {
        "colab": {
          "base_uri": "https://localhost:8080/"
        },
        "id": "yT5W96z6o8yp",
        "outputId": "4aff7ec7-bf0e-489c-85f5-8a7dcbe67bda"
      },
      "execution_count": 17,
      "outputs": [
        {
          "output_type": "execute_result",
          "data": {
            "text/plain": [
              "array([ 3.33333333,  4.        ,  3.        ,  5.        , 25.        ,\n",
              "        1.81818182])"
            ]
          },
          "metadata": {},
          "execution_count": 17
        }
      ]
    },
    {
      "cell_type": "markdown",
      "source": [
        "10. Perform dot operation on the given numpy array ar1 and ar2:"
      ],
      "metadata": {
        "id": "gCoP2u8wpQru"
      }
    },
    {
      "cell_type": "code",
      "source": [
        "import numpy as np\n",
        "\n",
        "arr1 = np.array([3, 5])\n",
        "arr2 = np.array([2, 4])\n",
        "\n",
        "print(np.dot(arr1, arr2))\n"
      ],
      "metadata": {
        "colab": {
          "base_uri": "https://localhost:8080/"
        },
        "id": "r7dMiirJpSIZ",
        "outputId": "b4fdeac8-5d76-41bb-caa4-1cfe9cebc742"
      },
      "execution_count": 20,
      "outputs": [
        {
          "output_type": "stream",
          "name": "stdout",
          "text": [
            "26\n"
          ]
        }
      ]
    },
    {
      "cell_type": "markdown",
      "source": [
        "11. Add Constant 5 to the given numpy array ar:"
      ],
      "metadata": {
        "id": "yyvBuRL0p7KE"
      }
    },
    {
      "cell_type": "code",
      "source": [
        "arr = np.array([1, 2, 3, -1])\n",
        "arr"
      ],
      "metadata": {
        "colab": {
          "base_uri": "https://localhost:8080/"
        },
        "id": "qA2hmOF-p8Gl",
        "outputId": "5505f1be-22f5-4af4-be02-d106fe5507d7"
      },
      "execution_count": 21,
      "outputs": [
        {
          "output_type": "execute_result",
          "data": {
            "text/plain": [
              "array([ 1,  2,  3, -1])"
            ]
          },
          "metadata": {},
          "execution_count": 21
        }
      ]
    },
    {
      "cell_type": "code",
      "source": [
        "arr + 5"
      ],
      "metadata": {
        "colab": {
          "base_uri": "https://localhost:8080/"
        },
        "id": "BPJi0fgjqSVH",
        "outputId": "c86cd659-ee80-4d15-f4e8-569a53e5a002"
      },
      "execution_count": 22,
      "outputs": [
        {
          "output_type": "execute_result",
          "data": {
            "text/plain": [
              "array([6, 7, 8, 4])"
            ]
          },
          "metadata": {},
          "execution_count": 22
        }
      ]
    },
    {
      "cell_type": "markdown",
      "source": [
        "Linspace\n",
        "\n",
        "A useful function for plotting mathematical functions is linspace. Linspace returns evenly spaced numbers over a specified interval.\n",
        "\n",
        "numpy.linspace(start, stop, num = int value)\n",
        "\n",
        "start : start of interval range\n",
        "\n",
        "stop : end of interval range\n",
        "\n",
        "num : Number of samples to generate."
      ],
      "metadata": {
        "id": "gW5XEBi4qbLU"
      }
    },
    {
      "cell_type": "markdown",
      "source": [
        "12. Make a numpy array within [5, 4] and 6 elements"
      ],
      "metadata": {
        "id": "TFKVQ3f_qnfl"
      }
    },
    {
      "cell_type": "code",
      "source": [
        "import numpy as np\n",
        "\n",
        "arr=np.linspace(5,4,6)\n",
        "arr"
      ],
      "metadata": {
        "colab": {
          "base_uri": "https://localhost:8080/"
        },
        "id": "tOS_C9LeqpZh",
        "outputId": "32bfa5ed-c96e-4d87-86ee-490c1acad357"
      },
      "execution_count": 23,
      "outputs": [
        {
          "output_type": "execute_result",
          "data": {
            "text/plain": [
              "array([5. , 4.8, 4.6, 4.4, 4.2, 4. ])"
            ]
          },
          "metadata": {},
          "execution_count": 23
        }
      ]
    },
    {
      "cell_type": "markdown",
      "source": [
        "Quiz on 1D Numpy Array"
      ],
      "metadata": {
        "id": "sym8PJp-uLvg"
      }
    },
    {
      "cell_type": "markdown",
      "source": [
        "Implement the following vector subtraction in numpy: u-v"
      ],
      "metadata": {
        "id": "SmPLagwGuWEq"
      }
    },
    {
      "cell_type": "code",
      "source": [
        "import numpy as np\n",
        "\n",
        "u = np.array([1, 0])\n",
        "v = np.array([0, 1])\n",
        "\n",
        "a=np.subtract(u,v)\n",
        "a\n"
      ],
      "metadata": {
        "colab": {
          "base_uri": "https://localhost:8080/"
        },
        "id": "XEnGe3qmufwW",
        "outputId": "bdb76f64-1719-44ba-ab60-f7fe5f6e3021"
      },
      "execution_count": 24,
      "outputs": [
        {
          "output_type": "execute_result",
          "data": {
            "text/plain": [
              "array([ 1, -1])"
            ]
          },
          "metadata": {},
          "execution_count": 24
        }
      ]
    },
    {
      "cell_type": "markdown",
      "source": [
        "Multiply the numpy array z with -2:"
      ],
      "metadata": {
        "id": "vgwmlcgzvBgZ"
      }
    },
    {
      "cell_type": "code",
      "source": [
        "import numpy as np\n",
        "\n",
        "z = np.array([2, 4])\n",
        "r=np.multiply(-2, z)\n",
        "r"
      ],
      "metadata": {
        "colab": {
          "base_uri": "https://localhost:8080/"
        },
        "id": "7RzumfdCvLBF",
        "outputId": "8e7b86f4-78bd-4c2d-ed1c-0b78195ef92c"
      },
      "execution_count": 25,
      "outputs": [
        {
          "output_type": "execute_result",
          "data": {
            "text/plain": [
              "array([-4, -8])"
            ]
          },
          "metadata": {},
          "execution_count": 25
        }
      ]
    },
    {
      "cell_type": "markdown",
      "source": [
        "Consider the list [1, 2, 3, 4, 5] and [1, 0, 1, 0, 1]. Cast both lists to a numpy array then multiply them together:"
      ],
      "metadata": {
        "id": "wY3ftobcvvC4"
      }
    },
    {
      "cell_type": "code",
      "source": [
        "import numpy as np\n",
        "\n",
        "list1 = [1,2,3,4,5]\n",
        "list2 = [1,0,1,0,1]\n",
        "x = np.multiply(list1, list2)\n",
        "x\n"
      ],
      "metadata": {
        "colab": {
          "base_uri": "https://localhost:8080/"
        },
        "id": "o5FzBUWAvvzp",
        "outputId": "33f92c85-b191-427b-d43f-cdc170450615"
      },
      "execution_count": 26,
      "outputs": [
        {
          "output_type": "execute_result",
          "data": {
            "text/plain": [
              "array([1, 0, 3, 0, 5])"
            ]
          },
          "metadata": {},
          "execution_count": 26
        }
      ]
    },
    {
      "cell_type": "markdown",
      "source": [
        "Convert the list [-1, 1] and [1, 1] to numpy arrays a and b. Then, plot the arrays as vectors using the fuction Plotvec2 and find their dot product:"
      ],
      "metadata": {
        "id": "LRbTgstUwZbo"
      }
    },
    {
      "cell_type": "code",
      "source": [
        "import numpy as np\n",
        "import matplotlib.pyplot as plt\n",
        "\n",
        "def Plotvec2(a, b):\n",
        "    ax = plt.axes()  # generate axes\n",
        "    ax.arrow(0, 0, *a, head_width=0.05, color='r', head_length=0.1)\n",
        "    plt.text(*(a + 0.1), 'a')\n",
        "    ax.arrow(0, 0, *b, head_width=0.05, color='b', head_length=0.1)\n",
        "    plt.text(*(b + 0.1), 'b')\n",
        "    plt.ylim(-2, 2)\n",
        "    plt.xlim(-2, 2)\n",
        "    plt.grid()\n",
        "    plt.show()\n",
        "\n",
        "# Step 1: Convert lists to NumPy arrays\n",
        "a = np.array([-1, 1])\n",
        "b = np.array([1, 1])\n",
        "\n",
        "# Step 2: Plot the vectors\n",
        "Plotvec2(a, b)\n",
        "\n",
        "# Step 3: Compute dot product\n",
        "dot_product = np.dot(a, b)\n",
        "print(\"Dot product of a and b:\", dot_product)\n"
      ],
      "metadata": {
        "colab": {
          "base_uri": "https://localhost:8080/",
          "height": 452
        },
        "id": "0q62FSw0wqj1",
        "outputId": "aabb6b08-44fd-4017-ab3b-1fd3f19c7a65"
      },
      "execution_count": 27,
      "outputs": [
        {
          "output_type": "display_data",
          "data": {
            "text/plain": [
              "<Figure size 640x480 with 1 Axes>"
            ],
            "image/png": "[encoded data removed]"
          },
          "metadata": {}
        },
        {
          "output_type": "stream",
          "name": "stdout",
          "text": [
            "Dot product of a and b: 0\n"
          ]
        }
      ]
    },
    {
      "cell_type": "markdown",
      "source": [
        "Convert the list [1, 0] and [0, 1] to numpy arrays a and b. Then, plot the arrays as vectors using the function Plotvec2 and find their dot product"
      ],
      "metadata": {
        "id": "qpNZ7jnQw5G_"
      }
    },
    {
      "cell_type": "code",
      "source": [
        "import numpy as np\n",
        "import matplotlib.pyplot as plt\n",
        "\n",
        "def Plotvec2(a, b):\n",
        "    ax = plt.axes()  # generate axes\n",
        "    ax.arrow(0, 0, *a, head_width=0.05, color='r', head_length=0.1)\n",
        "    plt.text(*(a + 0.1), 'a')\n",
        "    ax.arrow(0, 0, *b, head_width=0.05, color='b', head_length=0.1)\n",
        "    plt.text(*(b + 0.1), 'b')\n",
        "    plt.ylim(-1.5, 1.5)\n",
        "    plt.xlim(-1.5, 1.5)\n",
        "    plt.grid()\n",
        "    plt.show()\n",
        "\n",
        "# Step 1: Convert lists to NumPy arrays\n",
        "a = np.array([1, 0])\n",
        "b = np.array([0, 1])\n",
        "\n",
        "# Step 2: Plot the vectors\n",
        "Plotvec2(a, b)\n",
        "\n",
        "# Step 3: Compute dot product\n",
        "dot_product = np.dot(a, b)\n",
        "print(\"Dot product of a and b:\", dot_product)\n"
      ],
      "metadata": {
        "colab": {
          "base_uri": "https://localhost:8080/",
          "height": 452
        },
        "id": "n9XxTq4tw7ET",
        "outputId": "9e32d611-2c20-4f09-87a7-bee727c858ec"
      },
      "execution_count": 28,
      "outputs": [
        {
          "output_type": "display_data",
          "data": {
            "text/plain": [
              "<Figure size 640x480 with 1 Axes>"
            ],
            "image/png": "[encoded data removed]"
          },
          "metadata": {}
        },
        {
          "output_type": "stream",
          "name": "stdout",
          "text": [
            "Dot product of a and b: 0\n"
          ]
        }
      ]
    },
    {
      "cell_type": "markdown",
      "source": [
        "Convert the list [1, 1] and [0, 1] to numpy arrays a and b. Then plot the arrays as vectors using the fuction Plotvec2 and find their dot product:"
      ],
      "metadata": {
        "id": "RxCDC4mixNwt"
      }
    },
    {
      "cell_type": "code",
      "source": [
        "import numpy as np\n",
        "import matplotlib.pyplot as plt\n",
        "\n",
        "# Function to plot two vectors\n",
        "def Plotvec2(a, b):\n",
        "    ax = plt.axes()  # generate axes\n",
        "    ax.arrow(0, 0, *a, head_width=0.05, color='r', head_length=0.1)\n",
        "    plt.text(*(a + 0.1), 'a')\n",
        "    ax.arrow(0, 0, *b, head_width=0.05, color='b', head_length=0.1)\n",
        "    plt.text(*(b + 0.1), 'b')\n",
        "    plt.ylim(-0.5, 2)\n",
        "    plt.xlim(-0.5, 2)\n",
        "    plt.grid()\n",
        "    plt.show()\n",
        "\n",
        "# Step 1: Convert lists to NumPy arrays\n",
        "a = np.array([1, 1])\n",
        "b = np.array([0, 1])\n",
        "\n",
        "# Step 2: Plot the vectors\n",
        "Plotvec2(a, b)\n",
        "\n",
        "# Step 3: Compute dot product\n",
        "dot_product = np.dot(a, b)\n",
        "print(\"Dot product of a and b:\", dot_product)\n"
      ],
      "metadata": {
        "colab": {
          "base_uri": "https://localhost:8080/",
          "height": 452
        },
        "id": "PYeajY7OxPIc",
        "outputId": "a22e6a71-0688-425b-cd5d-0ec446c7b38b"
      },
      "execution_count": 29,
      "outputs": [
        {
          "output_type": "display_data",
          "data": {
            "text/plain": [
              "<Figure size 640x480 with 1 Axes>"
            ],
            "image/png": "[encoded data removed]"
          },
          "metadata": {}
        },
        {
          "output_type": "stream",
          "name": "stdout",
          "text": [
            "Dot product of a and b: 1\n"
          ]
        }
      ]
    },
    {
      "cell_type": "markdown",
      "source": [
        "Why are the results of the dot product for [-1, 1] and [1, 1] and the dot product for [1, 0] and [0, 1] zero, but not zero for the dot product for [1, 1] and [0, 1]?\n",
        "\n",
        "Hint: Study the corresponding figures, pay attention to the direction the arrows are pointing to."
      ],
      "metadata": {
        "id": "SaPfhLiNxam4"
      }
    },
    {
      "cell_type": "markdown",
      "source": [
        "The dot product is zero when vectors are perpendicular and non zero when they are not perpendicular.\n",
        "\n",
        "In above three codes [-1,1].[1,1] and [1,0].[0,1]= 0 as they are perpendicular but [1,1].[0,1] = 1 as they are not perpendicular."
      ],
      "metadata": {
        "id": "oFoW_TQ9xrG2"
      }
    },
    {
      "cell_type": "code",
      "source": [
        "import numpy as np\n",
        "import matplotlib.pyplot as plt\n",
        "\n",
        "def Plotvec2(a, b, title):\n",
        "    ax = plt.axes()\n",
        "    ax.arrow(0, 0, *a, head_width=0.05, color='r', head_length=0.1)\n",
        "    plt.text(*(a + 0.1), 'a')\n",
        "    ax.arrow(0, 0, *b, head_width=0.05, color='b', head_length=0.1)\n",
        "    plt.text(*(b + 0.1), 'b')\n",
        "    plt.ylim(-2, 2)\n",
        "    plt.xlim(-2, 2)\n",
        "    plt.grid()\n",
        "    plt.title(title)\n",
        "    plt.show()\n",
        "\n",
        "# Case 1\n",
        "a1 = np.array([-1, 1])\n",
        "b1 = np.array([1, 1])\n",
        "print(\"Dot product [-1,1] · [1,1]:\", np.dot(a1, b1))\n",
        "Plotvec2(a1, b1, \"Case 1: [-1,1] · [1,1]\")\n",
        "\n",
        "# Case 2\n",
        "a2 = np.array([1, 0])\n",
        "b2 = np.array([0, 1])\n",
        "print(\"Dot product [1,0] · [0,1]:\", np.dot(a2, b2))\n",
        "Plotvec2(a2, b2, \"Case 2: [1,0] · [0,1]\")\n",
        "\n",
        "# Case 3\n",
        "a3 = np.array([1, 1])\n",
        "b3 = np.array([0, 1])\n",
        "print(\"Dot product [1,1] · [0,1]:\", np.dot(a3, b3))\n",
        "Plotvec2(a3, b3, \"Case 3: [1,1] · [0,1]\")\n"
      ],
      "metadata": {
        "colab": {
          "base_uri": "https://localhost:8080/",
          "height": 1000
        },
        "id": "SGNBiTv0yW1p",
        "outputId": "90b3287e-d986-4a9d-e868-5b8e5f2d7a08"
      },
      "execution_count": 30,
      "outputs": [
        {
          "output_type": "stream",
          "name": "stdout",
          "text": [
            "Dot product [-1,1] · [1,1]: 0\n"
          ]
        },
        {
          "output_type": "display_data",
          "data": {
            "text/plain": [
              "<Figure size 640x480 with 1 Axes>"
            ],
            "image/png": "[encoded data removed]"
          },
          "metadata": {}
        },
        {
          "output_type": "stream",
          "name": "stdout",
          "text": [
            "Dot product [1,0] · [0,1]: 0\n"
          ]
        },
        {
          "output_type": "display_data",
          "data": {
            "text/plain": [
              "<Figure size 640x480 with 1 Axes>"
            ],
            "image/png": "[encoded data removed]"
          },
          "metadata": {}
        },
        {
          "output_type": "stream",
          "name": "stdout",
          "text": [
            "Dot product [1,1] · [0,1]: 1\n"
          ]
        },
        {
          "output_type": "display_data",
          "data": {
            "text/plain": [
              "<Figure size 640x480 with 1 Axes>"
            ],
            "image/png": "[encoded data removed]"
          },
          "metadata": {}
        }
      ]
    },
    {
      "cell_type": "markdown",
      "source": [
        "Convert the list [1, 2, 3] and [8, 9, 10] to numpy arrays arr1 and arr2. Then perform Addition , Subtraction , Multiplication , Division and Dot Operation on the arr1 and arr2."
      ],
      "metadata": {
        "id": "1hG_PZEZyllC"
      }
    },
    {
      "cell_type": "code",
      "source": [
        "import numpy as np\n",
        "\n",
        "# Convert lists to NumPy arrays\n",
        "arr1 = np.array([1, 2, 3])\n",
        "arr2 = np.array([8, 9, 10])\n",
        "\n",
        "addition = arr1 + arr2\n",
        "subtraction = arr1 - arr2\n",
        "multiplication = arr1 * arr2        # element-wise multiplication\n",
        "division = arr1 / arr2              # element-wise division\n",
        "dot_product = np.dot(arr1, arr2)    # dot product\n",
        "\n",
        "# Print results\n",
        "print(\"Addition:\", addition)\n",
        "print(\"Subtraction:\", subtraction)\n",
        "print(\"Multiplication:\", multiplication)\n",
        "print(\"Division:\", division)\n",
        "print(\"Dot product:\", dot_product)\n"
      ],
      "metadata": {
        "colab": {
          "base_uri": "https://localhost:8080/"
        },
        "id": "7xqJfzXVymfS",
        "outputId": "b4afc64b-a809-4d24-db1e-7aa275243b3d"
      },
      "execution_count": 31,
      "outputs": [
        {
          "output_type": "stream",
          "name": "stdout",
          "text": [
            "Addition: [ 9 11 13]\n",
            "Subtraction: [-7 -7 -7]\n",
            "Multiplication: [ 8 18 30]\n",
            "Division: [0.125      0.22222222 0.3       ]\n",
            "Dot product: 56\n"
          ]
        }
      ]
    },
    {
      "cell_type": "markdown",
      "source": [
        "Convert the list [1, 2, 3, 4, 5] and [6, 7, 8, 9, 10] to numpy arrays arr1 and arr2. Then find the even and odd numbers from arr1 and arr2."
      ],
      "metadata": {
        "id": "Bm6bccXMy8Kp"
      }
    },
    {
      "cell_type": "code",
      "source": [
        "import numpy as np\n",
        "\n",
        "# Convert lists to NumPy arrays\n",
        "arr1 = np.array([1, 2, 3, 4, 5])\n",
        "arr2 = np.array([6, 7, 8, 9, 10])\n",
        "\n",
        "# even and odd numbers using modulo operator\n",
        "even_arr1 = arr1[arr1 % 2 == 0]  # if divisible by 2\n",
        "odd_arr1 = arr1[arr1 % 2 != 0]   # if not divisible by 2\n",
        "\n",
        "even_arr2 = arr2[arr2 % 2 == 0]\n",
        "odd_arr2 = arr2[arr2 % 2 != 0]\n",
        "\n",
        "# Print results\n",
        "print(\"Even numbers in arr1:\", even_arr1)\n",
        "print(\"Odd numbers in arr1:\", odd_arr1)\n",
        "print(\"Even numbers in arr2:\", even_arr2)\n",
        "print(\"Odd numbers in arr2:\", odd_arr2)\n"
      ],
      "metadata": {
        "colab": {
          "base_uri": "https://localhost:8080/"
        },
        "id": "MPVbHrj_y84z",
        "outputId": "f20e15f8-d363-41ed-8162-6a755f490db3"
      },
      "execution_count": 32,
      "outputs": [
        {
          "output_type": "stream",
          "name": "stdout",
          "text": [
            "Even numbers in arr1: [2 4]\n",
            "Odd numbers in arr1: [1 3 5]\n",
            "Even numbers in arr2: [ 6  8 10]\n",
            "Odd numbers in arr2: [7 9]\n"
          ]
        }
      ]
    }
  ]
}