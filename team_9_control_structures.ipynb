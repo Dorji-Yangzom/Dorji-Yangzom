{
  "nbformat": 4,
  "nbformat_minor": 0,
  "metadata": {
    "colab": {
      "provenance": []
    },
    "kernelspec": {
      "name": "python3",
      "display_name": "Python 3"
    },
    "language_info": {
      "name": "python"
    }
  },
  "cells": [
    {
      "cell_type": "markdown",
      "source": [
        "Assignment 1\n",
        "\n",
        "A cinema gives discounts based on age Children below 12 years pay 300 Teens between 12 - 17 pays 500 Adults (18 - 59) pays 800 Seniors (60+) pays 400\n",
        "\n",
        "Write a python program that:\n",
        "\n",
        "Asks the user to enter their age Uses an if statement to decide the ticket price prints Your ticket price is xxx where xxx is the amount Extra challenge Ass another condition: If today is Wednesday, everyoen get a 100 off keyboard_arrow_down"
      ],
      "metadata": {
        "id": "WmB39viv1lWY"
      }
    },
    {
      "cell_type": "code",
      "source": [
        "from datetime import datetime\n",
        "\n",
        "# Ask the user for age\n",
        "age = int(input(\"Enter your age: \"))\n",
        "\n",
        "# Get today's day\n",
        "today = datetime.now().strftime(\"%A\")     # this give current date and time\n",
        "                                          # strftime means string format and \"%A\" means format code\n",
        "# ticket price based on age\n",
        "if age < 12:\n",
        "    price = 300\n",
        "elif age <= 17:\n",
        "    price = 500\n",
        "elif age <= 59:\n",
        "    price = 800\n",
        "else:\n",
        "    price = 400\n",
        "\n",
        "# Apply Wednesday discount\n",
        "if today == \"Wednesday\":\n",
        "    price = price - 100\n",
        "    print(\"\\n Wednesday discount! Enjoy!.\")\n",
        "\n",
        "# final result\n",
        "print(\"Your ticket price is:\", price, \"Nu\")\n"
      ],
      "metadata": {
        "colab": {
          "base_uri": "https://localhost:8080/"
        },
        "id": "zgVbwacn1uZg",
        "outputId": "6b603d13-4eb9-4f41-f36a-4510deeaab1b"
      },
      "execution_count": null,
      "outputs": [
        {
          "output_type": "stream",
          "name": "stdout",
          "text": [
            "Enter your age: 55\n",
            "Your ticket price is: 800 Nu\n"
          ]
        }
      ]
    },
    {
      "cell_type": "markdown",
      "source": [
        "Assignment 2: Number Guessing Game Write a python program that:\n",
        "\n",
        "Picks a secret number (e.g. 7). Asks the user to gues the number Keep asking until the user guesses correctly (Using a while loop) Print Congratulations! You guessed correctly when correct"
      ],
      "metadata": {
        "id": "mCplEiT12u8C"
      }
    },
    {
      "cell_type": "code",
      "source": [
        "secret = 7\n",
        "pick = 0\n",
        "while pick != secret:\n",
        "  pick = int(input('Guess a number: '))\n",
        "\n",
        "if pick == secret:\n",
        "  print('Congratulations! You guessed correctly.')"
      ],
      "metadata": {
        "id": "eur61q7O2y10"
      },
      "execution_count": null,
      "outputs": []
    },
    {
      "cell_type": "markdown",
      "source": [
        "Assignment 3: Go and research and practice how to use these in functions Keyword arguments Variable Number of Arguments *args and **kwargs"
      ],
      "metadata": {
        "id": "yAgyu8Kx3R7l"
      }
    },
    {
      "cell_type": "code",
      "source": [
        "# function named greet\n",
        "def greet():\n",
        "    print(\"Hello, Welcome!\")\n",
        "\n",
        "# Variable Number of Arguments (*args)\n",
        "def greet_multiple(*names):\n",
        "    for name in names:\n",
        "        print(\"Hello\", name)\n",
        "\n",
        "# *args and **kwargs\n",
        "def greet_all(*names, **messages):\n",
        "    for name in names:\n",
        "        for key in messages:\n",
        "            print(\"Hello\", name + \",\", messages[key])\n",
        "\n",
        "# Keyword arguments function\n",
        "def greet_keyword(name, msg):\n",
        "    print(\"Hello\", name + \",\", msg)\n",
        "\n",
        "# Call Keyword arguments\n",
        "greet_keyword(name='Tashi', msg='Welcome to Python')\n",
        "\n",
        "print()  # blank line for clarity\n",
        "\n",
        "# Call Variable Number of Arguments function\n",
        "greet_multiple('Leki', 'John', 'Peter')\n",
        "\n",
        "print()  # blank line for clarity\n",
        "\n",
        "# Call *args and **kwargs function\n",
        "greet_all('Leki', 'John', 'Peter', msg1='Welcome to Python', msg2='Have a nice day!')\n"
      ],
      "metadata": {
        "colab": {
          "base_uri": "https://localhost:8080/"
        },
        "id": "TjqmBv6e3WKP",
        "outputId": "0bc27617-6511-40f7-81df-9951fcc2d2b5"
      },
      "execution_count": null,
      "outputs": [
        {
          "output_type": "stream",
          "name": "stdout",
          "text": [
            "Hello Tashi, Welcome to Python\n",
            "\n",
            "Hello Leki\n",
            "Hello John\n",
            "Hello Peter\n",
            "\n",
            "Hello Leki, Welcome to Python\n",
            "Hello Leki, Have a nice day!\n",
            "Hello John, Welcome to Python\n",
            "Hello John, Have a nice day!\n",
            "Hello Peter, Welcome to Python\n",
            "Hello Peter, Have a nice day!\n"
          ]
        }
      ]
    },
    {
      "cell_type": "markdown",
      "source": [
        "Assignment 4 Student Grade Calculator Write a python program that will: Define a function called calculate_grade(marks) that: Takes marks (0-100) as input Returns the grade based on this scale 90-100 --> A 80-89 --> B 70-79 --> C 60-69 --> D Below 60 --> Failed Ask the user to enter their marks Call the function and print Your grade is: X"
      ],
      "metadata": {
        "id": "QZB-0Sfp4nLX"
      }
    },
    {
      "cell_type": "code",
      "source": [
        "# Define the function to calculate grade\n",
        "def calculate_grade(marks):\n",
        "    if marks >= 90 and marks <= 100:\n",
        "        return \"A\"\n",
        "    elif marks >= 80:\n",
        "        return \"B\"\n",
        "    elif marks >= 70:\n",
        "        return \"C\"\n",
        "    elif marks >= 60:\n",
        "        return \"D\"\n",
        "    else:\n",
        "        return \"Failed\"\n",
        "\n",
        "# User Input\n",
        "marks = int(input(\"Enter your marks (0-100): \"))\n",
        "\n",
        "# Call the function\n",
        "grade = calculate_grade(marks)\n",
        "\n",
        "# Show the result\n",
        "print(\"Your grade is:\", grade)\n"
      ],
      "metadata": {
        "colab": {
          "base_uri": "https://localhost:8080/"
        },
        "id": "KNQsp8pi4s_a",
        "outputId": "07440507-a4c3-4509-e013-ab6c6f3f643f"
      },
      "execution_count": null,
      "outputs": [
        {
          "output_type": "stream",
          "name": "stdout",
          "text": [
            "Enter your marks (0-100): 80\n",
            "Your grade is: B\n"
          ]
        }
      ]
    }
  ]
}